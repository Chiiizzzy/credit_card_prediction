{
 "cells": [
  {
   "cell_type": "markdown",
   "metadata": {},
   "source": [
    "# Credit Card Approval Prediction"
   ]
  },
  {
   "cell_type": "code",
   "execution_count": 1,
   "metadata": {},
   "outputs": [],
   "source": [
    "from towhee import DataCollection, Entity"
   ]
  },
  {
   "cell_type": "markdown",
   "metadata": {},
   "source": [
    "## Load data from csv via DataCollection"
   ]
  },
  {
   "cell_type": "code",
   "execution_count": 2,
   "metadata": {},
   "outputs": [
    {
     "name": "stdout",
     "output_type": "stream",
     "text": [
      "╒═════════╤══════════════════╤══════════╕\n",
      "│   ID    │  MONTHS_BALANCE  │  STATUS  │\n",
      "╞═════════╪══════════════════╪══════════╡\n",
      "│ 5001711 │        0         │          │\n",
      "├─────────┼──────────────────┼──────────┤\n",
      "│ 5001711 │        -1        │    0     │\n",
      "├─────────┼──────────────────┼──────────┤\n",
      "│ 5001711 │        -2        │    0     │\n",
      "├─────────┼──────────────────┼──────────┤\n",
      "│ 5001711 │        -3        │    0     │\n",
      "├─────────┼──────────────────┼──────────┤\n",
      "│ 5001712 │        0         │    C     │\n",
      "╘═════════╧══════════════════╧══════════╛\n"
     ]
    }
   ],
   "source": [
    "info = DataCollection.from_csv('./application_record.csv')\n",
    "record = DataCollection.from_csv('./credit_record.csv')\n",
    "\n",
    "record.head(tablefmt='fancy_grid')\n",
    "# header = ['id','gender', 'car','reality', 'ChildNo','inc','t_inc','t_edu', 't_fam','t_hou','d_bir', 'd_emp', 'mobil','wkphone','phone','email',' t_occpy', 'FamSize']\n",
    "# info.head(header=header,tablefmt='fancy_grid')"
   ]
  }
 ],
 "metadata": {
  "interpreter": {
   "hash": "f7dd10cdbe9a9c71f7e71741efd428241b5f9fa0fecdd29ae07a5706cd5ff8a2"
  },
  "kernelspec": {
   "display_name": "Python 3.8.5 ('base')",
   "language": "python",
   "name": "python3"
  },
  "language_info": {
   "codemirror_mode": {
    "name": "ipython",
    "version": 3
   },
   "file_extension": ".py",
   "mimetype": "text/x-python",
   "name": "python",
   "nbconvert_exporter": "python",
   "pygments_lexer": "ipython3",
   "version": "3.8.5"
  },
  "orig_nbformat": 4
 },
 "nbformat": 4,
 "nbformat_minor": 2
}
